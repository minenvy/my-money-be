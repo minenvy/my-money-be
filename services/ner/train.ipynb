{
 "cells": [
  {
   "cell_type": "code",
   "execution_count": 1,
   "metadata": {},
   "outputs": [
    {
     "name": "stdout",
     "output_type": "stream",
     "text": [
      "ℹ Generated config template specific for your use case\n",
      "- Language: en\n",
      "- Pipeline: ner\n",
      "- Optimize for: efficiency\n",
      "- Hardware: CPU\n",
      "- Transformer: None\n",
      "✔ Auto-filled config with all values\n",
      "✔ Saved config\n",
      "config.cfg\n",
      "You can now add your data and train your pipeline:\n",
      "python -m spacy train config.cfg --paths.train ./train.spacy --paths.dev ./dev.spacy\n"
     ]
    }
   ],
   "source": [
    "! python -m spacy init config config.cfg --lang en --pipeline ner --optimize efficiency --force"
   ]
  },
  {
   "cell_type": "code",
   "execution_count": 2,
   "metadata": {},
   "outputs": [
    {
     "name": "stdout",
     "output_type": "stream",
     "text": [
      "ℹ Saving to output directory: .\n",
      "ℹ Using CPU\n",
      "\u001b[1m\n",
      "=========================== Initializing pipeline ===========================\u001b[0m\n",
      "✔ Initialized pipeline\n",
      "\u001b[1m\n",
      "============================= Training pipeline =============================\u001b[0m\n",
      "ℹ Pipeline: ['tok2vec', 'ner']\n",
      "ℹ Initial learn rate: 0.001\n",
      "E    #       LOSS TOK2VEC  LOSS NER  ENTS_F  ENTS_P  ENTS_R  SCORE \n",
      "---  ------  ------------  --------  ------  ------  ------  ------\n",
      "  0       0          0.00     64.79    0.00    0.00    0.00    0.00\n",
      " 10     200        485.16   1409.80  100.00  100.00  100.00    1.00\n",
      " 21     400          0.00      0.00  100.00  100.00  100.00    1.00\n",
      " 33     600          0.00      0.00  100.00  100.00  100.00    1.00\n",
      " 49     800          0.00      0.00  100.00  100.00  100.00    1.00\n",
      " 71    1000          0.00      0.00  100.00  100.00  100.00    1.00\n",
      " 97    1200          0.00      0.00  100.00  100.00  100.00    1.00\n",
      "130    1400          0.00      0.00  100.00  100.00  100.00    1.00\n",
      "172    1600          5.09      4.01  100.00  100.00  100.00    1.00\n",
      "222    1800        702.30    194.79  100.00  100.00  100.00    1.00\n",
      "✔ Saved pipeline to output directory\n",
      "model-last\n"
     ]
    },
    {
     "name": "stderr",
     "output_type": "stream",
     "text": [
      "[2023-07-26 14:45:13,044] [INFO] Set up nlp object from config\n",
      "[2023-07-26 14:45:13,054] [INFO] Pipeline: ['tok2vec', 'ner']\n",
      "[2023-07-26 14:45:13,058] [INFO] Created vocabulary\n",
      "[2023-07-26 14:45:13,059] [INFO] Finished initializing nlp object\n",
      "[2023-07-26 14:45:13,290] [INFO] Initialized pipeline components: ['tok2vec', 'ner']\n"
     ]
    }
   ],
   "source": [
    "! python -m spacy train config.cfg --output ./ --paths.train ./training_data.spacy --paths.dev ./training_data.spacy"
   ]
  },
  {
   "cell_type": "code",
   "execution_count": 4,
   "metadata": {},
   "outputs": [
    {
     "data": {
      "text/html": [
       "<span class=\"tex2jax_ignore\"><div class=\"entities\" style=\"line-height: 2.5; direction: ltr\">K&amp;t qua giao dich</br></br>m \n",
       "<mark class=\"entity\" style=\"background: #bfe1d9; padding: 0.45em 0.6em; margin: 0 0.25em; line-height: 1; border-radius: 0.35em;\">\n",
       "    11/12/2022\n",
       "    <span style=\"font-size: 0.8em; font-weight: bold; line-height: 1; border-radius: 0.35em; vertical-align: middle; margin-left: 0.5rem\">DATE</span>\n",
       "</mark>\n",
       " 20:20</br>VietinBank™ W4GQ-TeQkazD]O</br></br>T tai khodn serananinzg</br>NGUYEN DINH KHOI</br></br>Dén tai khodn 106870479944</br>NGUYEN VAN MINH</br></br>S6 tién \n",
       "<mark class=\"entity\" style=\"background: #e4e7d2; padding: 0.45em 0.6em; margin: 0 0.25em; line-height: 1; border-radius: 0.35em;\">\n",
       "    67,000\n",
       "    <span style=\"font-size: 0.8em; font-weight: bold; line-height: 1; border-radius: 0.35em; vertical-align: middle; margin-left: 0.5rem\">MONEY</span>\n",
       "</mark>\n",
       " VND</br>Sdu muoi bdy nghin déng</br></br>Phi Mién phi</br>N6i dung \n",
       "<mark class=\"entity\" style=\"background: #ddd; padding: 0.45em 0.6em; margin: 0 0.25em; line-height: 1; border-radius: 0.35em;\">\n",
       "    NGUYEN DINH KHOI Chuyen\n",
       "    <span style=\"font-size: 0.8em; font-weight: bold; line-height: 1; border-radius: 0.35em; vertical-align: middle; margin-left: 0.5rem\">NOTE</span>\n",
       "</mark>\n",
       "</br></br>VietinBank</br>Q ‘iPayMobile</br></br>ang ngay Alias mién phi</br>~ V6i 156 logi sé dep</br>Pat ngay Alias ca tinh</br></br>Giao dich ti€p</br></br></div></span>"
      ],
      "text/plain": [
       "<IPython.core.display.HTML object>"
      ]
     },
     "metadata": {},
     "output_type": "display_data"
    }
   ],
   "source": [
    "import spacy\n",
    "\n",
    "nlp_ner = spacy.load(\"D:\\WorkSpace\\my-money\\\\backend\\services\\\\ner\\\\model-best\\\\\") \n",
    "\n",
    "import os\n",
    "import pytesseract\n",
    "from PIL import Image\n",
    "\n",
    "pytesseract.pytesseract.tesseract_cmd = r'C:\\Program Files\\Tesseract-OCR\\tesseract.exe'\n",
    "\n",
    "def extract(name):\n",
    "    img = Image.open(\n",
    "        'D:\\WorkSpace\\my-money\\\\backend\\static\\images\\\\' + name)\n",
    "    orc = pytesseract.image_to_string(img)\n",
    "    return str(orc)\n",
    "\n",
    "text = extract('317266415_1566897380438881_6300346615022929127_n.jpg')\n",
    "doc = nlp_ner(text)\n",
    "\n",
    "spacy.displacy.render(doc, style=\"ent\", jupyter=True) # display in Jupyter"
   ]
  }
 ],
 "metadata": {
  "kernelspec": {
   "display_name": "base",
   "language": "python",
   "name": "python3"
  },
  "language_info": {
   "codemirror_mode": {
    "name": "ipython",
    "version": 3
   },
   "file_extension": ".py",
   "mimetype": "text/x-python",
   "name": "python",
   "nbconvert_exporter": "python",
   "pygments_lexer": "ipython3",
   "version": "3.9.13"
  },
  "orig_nbformat": 4
 },
 "nbformat": 4,
 "nbformat_minor": 2
}
