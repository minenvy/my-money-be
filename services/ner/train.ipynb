{
 "cells": [
  {
   "cell_type": "code",
   "execution_count": 1,
   "metadata": {},
   "outputs": [
    {
     "name": "stdout",
     "output_type": "stream",
     "text": [
      "ℹ Generated config template specific for your use case\n",
      "- Language: vi\n",
      "- Pipeline: ner\n",
      "- Optimize for: efficiency\n",
      "- Hardware: CPU\n",
      "- Transformer: None\n",
      "✔ Auto-filled config with all values\n",
      "✔ Saved config\n",
      "config.cfg\n",
      "You can now add your data and train your pipeline:\n",
      "python -m spacy train config.cfg --paths.train ./train.spacy --paths.dev ./dev.spacy\n"
     ]
    }
   ],
   "source": [
    "! python -m spacy init config config.cfg --lang vi --pipeline ner --optimize efficiency"
   ]
  },
  {
   "cell_type": "code",
   "execution_count": 2,
   "metadata": {},
   "outputs": [
    {
     "name": "stdout",
     "output_type": "stream",
     "text": [
      "ℹ Saving to output directory: .\n",
      "ℹ Using CPU\n",
      "\u001b[1m\n",
      "=========================== Initializing pipeline ===========================\u001b[0m\n",
      "✔ Initialized pipeline\n",
      "\u001b[1m\n",
      "============================= Training pipeline =============================\u001b[0m\n",
      "ℹ Pipeline: ['tok2vec', 'ner']\n",
      "ℹ Initial learn rate: 0.001\n",
      "E    #       LOSS TOK2VEC  LOSS NER  ENTS_F  ENTS_P  ENTS_R  SCORE \n",
      "---  ------  ------------  --------  ------  ------  ------  ------\n",
      "  0       0          0.00     27.86    0.00    0.00    0.00    0.00\n",
      "  5     200        791.65   1855.12   55.17   57.73   52.83    0.55\n",
      " 11     400         68.06    199.60   99.06   99.06   99.06    0.99\n",
      " 18     600         18.46     29.41   99.06   99.06   99.06    0.99\n",
      " 28     800         16.35     30.05   99.06   99.06   99.06    0.99\n",
      " 40    1000         13.38     27.78   99.06   99.06   99.06    0.99\n",
      " 56    1200         21.17     39.45   99.06   99.06   99.06    0.99\n",
      " 76    1400         32.90     53.74   99.06   99.06   99.06    0.99\n",
      "100    1600         25.73     50.07   99.06   99.06   99.06    0.99\n",
      "131    1800         22.55     59.08   99.06   99.06   99.06    0.99\n",
      "168    2000         67.58     90.89   99.06   99.06   99.06    0.99\n",
      "✔ Saved pipeline to output directory\n",
      "model-last\n"
     ]
    },
    {
     "name": "stderr",
     "output_type": "stream",
     "text": [
      "[2023-05-10 09:48:04,653] [INFO] Set up nlp object from config\n",
      "[2023-05-10 09:48:04,664] [INFO] Pipeline: ['tok2vec', 'ner']\n",
      "[2023-05-10 09:48:04,668] [INFO] Created vocabulary\n",
      "[2023-05-10 09:48:04,669] [INFO] Finished initializing nlp object\n",
      "[2023-05-10 09:48:05,114] [INFO] Initialized pipeline components: ['tok2vec', 'ner']\n"
     ]
    }
   ],
   "source": [
    "! python -m spacy train config.cfg --output ./ --paths.train ./training_data.spacy --paths.dev ./training_data.spacy"
   ]
  },
  {
   "cell_type": "code",
   "execution_count": 6,
   "metadata": {},
   "outputs": [
    {
     "data": {
      "text/html": [
       "<span class=\"tex2jax_ignore\"><div class=\"entities\" style=\"line-height: 2.5; direction: ltr\">S Vietcombank</br>Thông báo VCB</br>Số dư TK VCB 0011002385..</br></br>Y L LJIUIILUOƠ</br></br>CHUYỂN KHOẢN THÀNH CÔNG</br></br>\n",
       "<mark class=\"entity\" style=\"background: #e4e7d2; padding: 0.45em 0.6em; margin: 0 0.25em; line-height: 1; border-radius: 0.35em;\">\n",
       "    580,000 VND\n",
       "    <span style=\"font-size: 0.8em; font-weight: bold; line-height: 1; border-radius: 0.35em; vertical-align: middle; margin-left: 0.5rem\">MONEY</span>\n",
       "</mark>\n",
       "</br></br>15:44 Thứ hai \n",
       "<mark class=\"entity\" style=\"background: #bfe1d9; padding: 0.45em 0.6em; margin: 0 0.25em; line-height: 1; border-radius: 0.35em;\">\n",
       "    05/10/2020\n",
       "    <span style=\"font-size: 0.8em; font-weight: bold; line-height: 1; border-radius: 0.35em; vertical-align: middle; margin-left: 0.5rem\">DATE</span>\n",
       "</mark>\n",
       "</br></br>Tên người thụ hưởng DAO THU HẠ</br>Tài khoản thụ hưởng 0011002387400</br>Mã giao dịch : 796017244</br>Nội dung</br></br>\n",
       "<mark class=\"entity\" style=\"background: #ddd; padding: 0.45em 0.6em; margin: 0 0.25em; line-height: 1; border-radius: 0.35em;\">\n",
       "    chuyen tien 2 hop\n",
       "\n",
       "kem\n",
       "    <span style=\"font-size: 0.8em; font-weight: bold; line-height: 1; border-radius: 0.35em; vertical-align: middle; margin-left: 0.5rem\">NOTE</span>\n",
       "</mark>\n",
       "</br></div></span>"
      ],
      "text/plain": [
       "<IPython.core.display.HTML object>"
      ]
     },
     "metadata": {},
     "output_type": "display_data"
    }
   ],
   "source": [
    "import spacy\n",
    "\n",
    "nlp_ner = spacy.load(\"D:\\WorkSpace\\my-money\\\\backend\\services\\\\ner\\\\model-best\\\\\") \n",
    "\n",
    "import os\n",
    "import pytesseract\n",
    "from PIL import Image\n",
    "\n",
    "pytesseract.pytesseract.tesseract_cmd = r'C:\\Program Files\\Tesseract-OCR\\tesseract.exe'\n",
    "\n",
    "def extract(name):\n",
    "    img = Image.open(\n",
    "        'D:\\WorkSpace\\my-money\\\\backend\\services\\\\banking_images\\\\' + name)\n",
    "    orc = pytesseract.image_to_string(img, lang='vie')\n",
    "    return str(orc)\n",
    "\n",
    "text = extract('120593737_1045045215952891_1125537661434463853_n.png')\n",
    "doc = nlp_ner(text)\n",
    "\n",
    "spacy.displacy.render(doc, style=\"ent\", jupyter=True) # display in Jupyter"
   ]
  }
 ],
 "metadata": {
  "kernelspec": {
   "display_name": "base",
   "language": "python",
   "name": "python3"
  },
  "language_info": {
   "codemirror_mode": {
    "name": "ipython",
    "version": 3
   },
   "file_extension": ".py",
   "mimetype": "text/x-python",
   "name": "python",
   "nbconvert_exporter": "python",
   "pygments_lexer": "ipython3",
   "version": "3.9.13"
  },
  "orig_nbformat": 4
 },
 "nbformat": 4,
 "nbformat_minor": 2
}
